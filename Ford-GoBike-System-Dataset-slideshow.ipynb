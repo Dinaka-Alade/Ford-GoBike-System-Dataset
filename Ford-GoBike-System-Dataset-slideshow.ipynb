{
 "cells": [
  {
   "cell_type": "markdown",
   "id": "9d853ffe",
   "metadata": {
    "slideshow": {
     "slide_type": "slide"
    }
   },
   "source": [
    "# Part I - (Ford GoBike System Data)\n",
    "## by Dina Alade\n",
    "\n"
   ]
  },
  {
   "cell_type": "markdown",
   "id": "65d64913",
   "metadata": {
    "slideshow": {
     "slide_type": "slide"
    }
   },
   "source": [
    "### Table of Content\n",
    "- [Introduction](#-Introduction)\n",
    "- [Preliminary Wrangling](#-Preliminary-Wrangling)\n",
    "- [Univariant Exploration](#-Univariant-Exploration)\n",
    "- [Bivariant Exploration](#-Bivariant-Exploration)\n",
    "- [Multivariant Exploration](#-Multivariant-Exploration)\n",
    "- [Conclusion](#-Conclusion)\n",
    "\n",
    "## Introduction\n",
    "\n",
    "> I analyzed Ford GoBike dataset. I used Python libraries like pandas, seaborn, numpy and matplotlib. The Dataset collects information from over 183k data of Bike rides. It consists of different features of user data and time.\n",
    "\n",
    "\n",
    "## Dataset\n",
    "It consists of 183412 rows 16 columns\n",
    "\n",
    "Duration_sec - Trip Duration\n",
    "Start_time - Time the trip starts\n",
    "End_time - Time the trip ends\n",
    "Start_station_id - ID number of the station the trip started from\n",
    "Start_station_name - Name of the station the trip started from\n",
    "Start_station_latitude - Latitude of station the trip started from\n",
    "Start_station_longitude - Longitude of station the trip started from\n",
    "End_station_id - ID number of the station the trip ended\n",
    "End_station_name - Name of the station the trip ended\n",
    "End_station_latitude - Latitude of station the trip ended\n",
    "End_station_longitude - Longitude of station the trip ended\n",
    "Bike_id - ID of the bikes used\n",
    "Member_birth_year - Year the Bike users were born\n",
    "Member_gender - Gender of the Bike Users\n",
    "Bike_share_for_all_trip - If bike trips were shared or not.\n",
    "\n",
    "\n"
   ]
  },
  {
   "cell_type": "code",
   "execution_count": 1,
   "id": "a90b89bb",
   "metadata": {
    "slideshow": {
     "slide_type": "skip"
    }
   },
   "outputs": [],
   "source": [
    "#load necessary libraries\n",
    "import pandas as pd\n",
    "import numpy as np\n",
    "import seaborn as sns\n",
    "import matplotlib.pyplot as plt\n",
    "%matplotlib inline"
   ]
  },
  {
   "cell_type": "code",
   "execution_count": 2,
   "id": "26ee885c",
   "metadata": {
    "slideshow": {
     "slide_type": "skip"
    }
   },
   "outputs": [
    {
     "data": {
      "text/html": [
       "<div>\n",
       "<style scoped>\n",
       "    .dataframe tbody tr th:only-of-type {\n",
       "        vertical-align: middle;\n",
       "    }\n",
       "\n",
       "    .dataframe tbody tr th {\n",
       "        vertical-align: top;\n",
       "    }\n",
       "\n",
       "    .dataframe thead th {\n",
       "        text-align: right;\n",
       "    }\n",
       "</style>\n",
       "<table border=\"1\" class=\"dataframe\">\n",
       "  <thead>\n",
       "    <tr style=\"text-align: right;\">\n",
       "      <th></th>\n",
       "      <th>Unnamed: 0</th>\n",
       "      <th>start_time</th>\n",
       "      <th>end_time</th>\n",
       "      <th>duration_sec</th>\n",
       "      <th>start_station_name</th>\n",
       "      <th>end_station_name</th>\n",
       "      <th>bike_id</th>\n",
       "      <th>user_type</th>\n",
       "      <th>member_gender</th>\n",
       "      <th>member_birth_year</th>\n",
       "      <th>bike_share_for_all_trip</th>\n",
       "      <th>start_weekday</th>\n",
       "      <th>start_date</th>\n",
       "      <th>start_hour</th>\n",
       "      <th>end_hour</th>\n",
       "    </tr>\n",
       "  </thead>\n",
       "  <tbody>\n",
       "    <tr>\n",
       "      <th>0</th>\n",
       "      <td>0</td>\n",
       "      <td>2019-02-28 17:32:10.145</td>\n",
       "      <td>2019-03-01 08:01:55.975</td>\n",
       "      <td>52185</td>\n",
       "      <td>Montgomery St BART Station (Market St at 2nd St)</td>\n",
       "      <td>Commercial St at Montgomery St</td>\n",
       "      <td>4902</td>\n",
       "      <td>Customer</td>\n",
       "      <td>Male</td>\n",
       "      <td>1970-01-01 00:00:00.000001984</td>\n",
       "      <td>No</td>\n",
       "      <td>3</td>\n",
       "      <td>28</td>\n",
       "      <td>17</td>\n",
       "      <td>8</td>\n",
       "    </tr>\n",
       "    <tr>\n",
       "      <th>1</th>\n",
       "      <td>2</td>\n",
       "      <td>2019-02-28 12:13:13.218</td>\n",
       "      <td>2019-03-01 05:24:08.146</td>\n",
       "      <td>61854</td>\n",
       "      <td>Market St at Dolores St</td>\n",
       "      <td>Powell St BART Station (Market St at 4th St)</td>\n",
       "      <td>5905</td>\n",
       "      <td>Customer</td>\n",
       "      <td>Male</td>\n",
       "      <td>1970-01-01 00:00:00.000001972</td>\n",
       "      <td>No</td>\n",
       "      <td>3</td>\n",
       "      <td>28</td>\n",
       "      <td>12</td>\n",
       "      <td>5</td>\n",
       "    </tr>\n",
       "    <tr>\n",
       "      <th>2</th>\n",
       "      <td>3</td>\n",
       "      <td>2019-02-28 17:54:26.010</td>\n",
       "      <td>2019-03-01 04:02:36.842</td>\n",
       "      <td>36490</td>\n",
       "      <td>Grove St at Masonic Ave</td>\n",
       "      <td>Central Ave at Fell St</td>\n",
       "      <td>6638</td>\n",
       "      <td>Subscriber</td>\n",
       "      <td>Other</td>\n",
       "      <td>1970-01-01 00:00:00.000001989</td>\n",
       "      <td>No</td>\n",
       "      <td>3</td>\n",
       "      <td>28</td>\n",
       "      <td>17</td>\n",
       "      <td>4</td>\n",
       "    </tr>\n",
       "    <tr>\n",
       "      <th>3</th>\n",
       "      <td>4</td>\n",
       "      <td>2019-02-28 23:54:18.549</td>\n",
       "      <td>2019-03-01 00:20:44.074</td>\n",
       "      <td>1585</td>\n",
       "      <td>Frank H Ogawa Plaza</td>\n",
       "      <td>10th Ave at E 15th St</td>\n",
       "      <td>4898</td>\n",
       "      <td>Subscriber</td>\n",
       "      <td>Male</td>\n",
       "      <td>1970-01-01 00:00:00.000001974</td>\n",
       "      <td>Yes</td>\n",
       "      <td>3</td>\n",
       "      <td>28</td>\n",
       "      <td>23</td>\n",
       "      <td>0</td>\n",
       "    </tr>\n",
       "    <tr>\n",
       "      <th>4</th>\n",
       "      <td>5</td>\n",
       "      <td>2019-02-28 23:49:58.632</td>\n",
       "      <td>2019-03-01 00:19:51.760</td>\n",
       "      <td>1793</td>\n",
       "      <td>4th St at Mission Bay Blvd S</td>\n",
       "      <td>Broadway at Kearny</td>\n",
       "      <td>5200</td>\n",
       "      <td>Subscriber</td>\n",
       "      <td>Male</td>\n",
       "      <td>1970-01-01 00:00:00.000001959</td>\n",
       "      <td>No</td>\n",
       "      <td>3</td>\n",
       "      <td>28</td>\n",
       "      <td>23</td>\n",
       "      <td>0</td>\n",
       "    </tr>\n",
       "  </tbody>\n",
       "</table>\n",
       "</div>"
      ],
      "text/plain": [
       "   Unnamed: 0               start_time                 end_time  duration_sec  \\\n",
       "0           0  2019-02-28 17:32:10.145  2019-03-01 08:01:55.975         52185   \n",
       "1           2  2019-02-28 12:13:13.218  2019-03-01 05:24:08.146         61854   \n",
       "2           3  2019-02-28 17:54:26.010  2019-03-01 04:02:36.842         36490   \n",
       "3           4  2019-02-28 23:54:18.549  2019-03-01 00:20:44.074          1585   \n",
       "4           5  2019-02-28 23:49:58.632  2019-03-01 00:19:51.760          1793   \n",
       "\n",
       "                                 start_station_name  \\\n",
       "0  Montgomery St BART Station (Market St at 2nd St)   \n",
       "1                           Market St at Dolores St   \n",
       "2                           Grove St at Masonic Ave   \n",
       "3                               Frank H Ogawa Plaza   \n",
       "4                      4th St at Mission Bay Blvd S   \n",
       "\n",
       "                               end_station_name  bike_id   user_type  \\\n",
       "0                Commercial St at Montgomery St     4902    Customer   \n",
       "1  Powell St BART Station (Market St at 4th St)     5905    Customer   \n",
       "2                        Central Ave at Fell St     6638  Subscriber   \n",
       "3                         10th Ave at E 15th St     4898  Subscriber   \n",
       "4                            Broadway at Kearny     5200  Subscriber   \n",
       "\n",
       "  member_gender              member_birth_year bike_share_for_all_trip  \\\n",
       "0          Male  1970-01-01 00:00:00.000001984                      No   \n",
       "1          Male  1970-01-01 00:00:00.000001972                      No   \n",
       "2         Other  1970-01-01 00:00:00.000001989                      No   \n",
       "3          Male  1970-01-01 00:00:00.000001974                     Yes   \n",
       "4          Male  1970-01-01 00:00:00.000001959                      No   \n",
       "\n",
       "   start_weekday  start_date  start_hour  end_hour  \n",
       "0              3          28          17         8  \n",
       "1              3          28          12         5  \n",
       "2              3          28          17         4  \n",
       "3              3          28          23         0  \n",
       "4              3          28          23         0  "
      ]
     },
     "execution_count": 2,
     "metadata": {},
     "output_type": "execute_result"
    }
   ],
   "source": [
    "#load dataset using pandas\n",
    "df_new = pd.read_csv('new_data.csv')\n",
    "df_new.head()"
   ]
  },
  {
   "cell_type": "code",
   "execution_count": 12,
   "id": "628fbef7",
   "metadata": {
    "slideshow": {
     "slide_type": "skip"
    }
   },
   "outputs": [],
   "source": [
    "#change start and end time to datetime \n",
    "df_new['start_time'] = pd.to_datetime(df_new.start_time)\n",
    "df_new['end_time'] = pd.to_datetime(df_new.end_time)\n",
    "df_new['member_birth_year'] = pd.to_datetime(df_new.member_birth_year)"
   ]
  },
  {
   "cell_type": "code",
   "execution_count": 4,
   "id": "d70f77df",
   "metadata": {},
   "outputs": [],
   "source": [
    "#drop columns not needed\n",
    "df_new = df_new[['start_time', 'end_time', 'duration_sec', 'start_station_name', 'end_station_name', 'bike_id', 'user_type', 'member_gender', 'member_birth_year', 'bike_share_for_all_trip']]"
   ]
  },
  {
   "cell_type": "code",
   "execution_count": 5,
   "id": "8b53fc47",
   "metadata": {},
   "outputs": [],
   "source": [
    "#extract the days of the week, hours, and month from start and end time\n",
    "df_new['start_weekday'] = df_new['start_time'].dt.weekday\n",
    "df_new['start_date'] = df_new['start_time'].dt.day\n",
    "df_new['start_hour'] = df_new['start_time'].dt.hour"
   ]
  },
  {
   "cell_type": "markdown",
   "id": "404c216a",
   "metadata": {
    "slideshow": {
     "slide_type": "slide"
    }
   },
   "source": [
    "## Visualization I\n",
    "\n",
    "Check the frequency and count of some variables to see the activity\n",
    "\n",
    "First, i will start with weekday\n",
    "\n",
    "#### What day of the week had the most rental in 2019?"
   ]
  },
  {
   "cell_type": "code",
   "execution_count": 6,
   "id": "5b4699bd",
   "metadata": {
    "slideshow": {
     "slide_type": "subslide"
    }
   },
   "outputs": [
    {
     "data": {
      "image/png": "[encoded data removed]",
      "text/plain": [
       "<Figure size 864x576 with 1 Axes>"
      ]
     },
     "metadata": {
      "needs_background": "light"
     },
     "output_type": "display_data"
    }
   ],
   "source": [
    "#Use bar plot to view the frequency of weekdays\n",
    "df_new.start_weekday.value_counts().plot(kind='bar', figsize=(12, 8))\n",
    "plt.title('Frequency of Weekdays')\n",
    "plt.xlabel('Days of the Week')\n",
    "plt.ylabel('Count');"
   ]
  },
  {
   "cell_type": "markdown",
   "id": "2244aee3",
   "metadata": {
    "slideshow": {
     "slide_type": "notes"
    }
   },
   "source": [
    "Monday starts from 0, according to the plot the day of the week that had the most rentals is Thursday(3) with a count of 33712. The next top 2 days were Tuesday and Wednesday.\n",
    "\n",
    "Saturday had the least amount of rentals in February, 2019."
   ]
  },
  {
   "cell_type": "markdown",
   "id": "7fc96623",
   "metadata": {
    "slideshow": {
     "slide_type": "slide"
    }
   },
   "source": [
    "## Visualization II\n",
    "\n",
    "#### What day in February had the highest rental rate?\n",
    "Find out the day in the month of February experinced the highest amount of activity"
   ]
  },
  {
   "cell_type": "code",
   "execution_count": 7,
   "id": "ca7c8b5d",
   "metadata": {
    "slideshow": {
     "slide_type": "subslide"
    }
   },
   "outputs": [
    {
     "data": {
      "image/png": "[encoded data removed]",
      "text/plain": [
       "<Figure size 864x576 with 1 Axes>"
      ]
     },
     "metadata": {
      "needs_background": "light"
     },
     "output_type": "display_data"
    }
   ],
   "source": [
    "#Use bar plot to view the frequency of days in February\n",
    "df_new.start_date.value_counts().head().plot(kind='bar', figsize=(12, 8))\n",
    "plt.title('Frequency of Days in February')\n",
    "plt.xlabel('Days')\n",
    "plt.ylabel('Count');"
   ]
  },
  {
   "cell_type": "markdown",
   "id": "2f5ab952",
   "metadata": {
    "slideshow": {
     "slide_type": "slide"
    }
   },
   "source": [
    "## Visualization III\n",
    "\n",
    "### What Days of the Week Experience the longest Rides? \n",
    "When in the month of February 2019 did riders ride the most?\n"
   ]
  },
  {
   "cell_type": "code",
   "execution_count": 8,
   "id": "18a2ca23",
   "metadata": {
    "slideshow": {
     "slide_type": "subslide"
    }
   },
   "outputs": [
    {
     "data": {
      "image/png": "[encoded data removed]",
      "text/plain": [
       "<Figure size 864x576 with 1 Axes>"
      ]
     },
     "metadata": {
      "needs_background": "light"
     },
     "output_type": "display_data"
    }
   ],
   "source": [
    "#create boxplot\n",
    "plt.figure(figsize = (12, 8))\n",
    "base_color = sns.color_palette()[1]\n",
    "sns.boxplot(data = df_new, x = 'start_weekday', y = 'duration_sec', color = base_color)\n",
    "plt.ylim([-10, 3000])\n",
    "plt.title('Ride Duration by Days')\n",
    "plt.xlabel('Weekdays')\n",
    "plt.ylabel('Duration (sec)')\n",
    "plt.show()"
   ]
  },
  {
   "cell_type": "markdown",
   "id": "e44f4312",
   "metadata": {
    "slideshow": {
     "slide_type": "notes"
    }
   },
   "source": [
    "From the plot above, it shows that trips made during the weekend take longer than trips done during the week."
   ]
  },
  {
   "cell_type": "markdown",
   "id": "af889d79",
   "metadata": {
    "slideshow": {
     "slide_type": "slide"
    }
   },
   "source": [
    "## Visualization IV\n",
    "\n",
    "### What is the Distribution between Gender, User Type and Birth Year with time?\n",
    "Let's see if a relationship can be seen between gender, user type and birth year with time(duration)"
   ]
  },
  {
   "cell_type": "code",
   "execution_count": 9,
   "id": "ed33aecd",
   "metadata": {
    "slideshow": {
     "slide_type": "skip"
    }
   },
   "outputs": [],
   "source": [
    "#create a function\n",
    "def hist2dgrid(x, y, **kwargs):\n",
    "    \"\"\" Creating heat maps with seaborn's PairGrid. \"\"\"\n",
    "    palette = kwargs.pop('color')\n",
    "    y_bins = 10 ** np.arange(1.7, 4.3+0.1, 0.1)\n",
    "    y_ticks = [100, 300, 1000, 3000, 10000]\n",
    "    y_labels = [100, 300, '1k', '3k', '10k']\n",
    "    \n",
    "    plt.hist2d(x, y, bins = [10, y_bins], cmap = palette, cmin = 100)\n",
    "    plt.yscale('log')\n",
    "    plt.yticks(y_ticks, y_labels)"
   ]
  },
  {
   "cell_type": "code",
   "execution_count": 10,
   "id": "6a574b50",
   "metadata": {
    "slideshow": {
     "slide_type": "subslide"
    }
   },
   "outputs": [
    {
     "data": {
      "image/png": "[encoded data removed]",
      "text/plain": [
       "<Figure size 648x432 with 6 Axes>"
      ]
     },
     "metadata": {
      "needs_background": "light"
     },
     "output_type": "display_data"
    }
   ],
   "source": [
    "# plot the heatmap\n",
    "g = sns.FacetGrid(data=df_new, col='member_gender', row='user_type', margin_titles=True)\n",
    "g.map(hist2dgrid, 'member_birth_year', 'duration_sec', color='viridis_r')\n",
    "g.set_xlabels('Birth Year')\n",
    "g.set_ylabels('Duration (sec)');"
   ]
  },
  {
   "cell_type": "markdown",
   "id": "8a7a556c",
   "metadata": {
    "slideshow": {
     "slide_type": "notes"
    }
   },
   "source": [
    "The peak of distribution for different people is nearly the same. However, the male subscriber accounts for a major proportion. The male subscribers spent longer times during rides and were born mostly between 1950 - 2000"
   ]
  },
  {
   "cell_type": "code",
   "execution_count": null,
   "id": "a7bb8c0d",
   "metadata": {
    "slideshow": {
     "slide_type": "skip"
    }
   },
   "outputs": [],
   "source": [
    "!jupyter nbconvert Ford-GoBike-System-Dataset-slideshow.ipynb --to slides --post serve  --no-input --no-prompt"
   ]
  },
  {
   "cell_type": "code",
   "execution_count": null,
   "id": "869bfcca",
   "metadata": {},
   "outputs": [],
   "source": []
  }
 ],
 "metadata": {
  "celltoolbar": "Slideshow",
  "kernelspec": {
   "display_name": "Python 3 (ipykernel)",
   "language": "python",
   "name": "python3"
  },
  "language_info": {
   "codemirror_mode": {
    "name": "ipython",
    "version": 3
   },
   "file_extension": ".py",
   "mimetype": "text/x-python",
   "name": "python",
   "nbconvert_exporter": "python",
   "pygments_lexer": "ipython3",
   "version": "3.9.12"
  }
 },
 "nbformat": 4,
 "nbformat_minor": 5
}
